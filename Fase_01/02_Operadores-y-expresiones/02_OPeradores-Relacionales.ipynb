{
 "cells": [
  {
   "cell_type": "markdown",
   "id": "e13a064b",
   "metadata": {},
   "source": [
    "# Los Operadores Relacionales\n",
    "\n",
    "Sirven para comparar dos valores, dependiendo del resultado de la comparacion pueden devolver \n",
    "dos cosas.\n",
    "\n",
    "*verdadero en caso de que sea cierto (true)\n",
    "*falso en caso de que no es cierta (false)\n"
   ]
  },
  {
   "cell_type": "code",
   "execution_count": 1,
   "id": "bd60bcf5",
   "metadata": {},
   "outputs": [
    {
     "data": {
      "text/plain": [
       "False"
      ]
     },
     "execution_count": 1,
     "metadata": {},
     "output_type": "execute_result"
    }
   ],
   "source": [
    "3==2"
   ]
  },
  {
   "cell_type": "code",
   "execution_count": 3,
   "id": "708be9f9",
   "metadata": {},
   "outputs": [
    {
     "data": {
      "text/plain": [
       "False"
      ]
     },
     "execution_count": 3,
     "metadata": {},
     "output_type": "execute_result"
    }
   ],
   "source": [
    "#Distinto de \n",
    "3 <=2"
   ]
  },
  {
   "cell_type": "code",
   "execution_count": 6,
   "id": "f8d8937b",
   "metadata": {},
   "outputs": [
    {
     "data": {
      "text/plain": [
       "False"
      ]
     },
     "execution_count": 6,
     "metadata": {},
     "output_type": "execute_result"
    }
   ],
   "source": [
    "#Mayor igual que\n",
    "3 >=4"
   ]
  },
  {
   "cell_type": "code",
   "execution_count": 5,
   "id": "b7c61898",
   "metadata": {},
   "outputs": [
    {
     "data": {
      "text/plain": [
       "True"
      ]
     },
     "execution_count": 5,
     "metadata": {},
     "output_type": "execute_result"
    }
   ],
   "source": [
    "#menor o igual que\n",
    "3 <=4"
   ]
  },
  {
   "cell_type": "markdown",
   "id": "079e10f6",
   "metadata": {},
   "source": [
    "#### Tambien es posible comparar variables "
   ]
  },
  {
   "cell_type": "code",
   "execution_count": 7,
   "id": "35f22349",
   "metadata": {},
   "outputs": [
    {
     "data": {
      "text/plain": [
       "True"
      ]
     },
     "execution_count": 7,
     "metadata": {},
     "output_type": "execute_result"
    }
   ],
   "source": [
    "a = 10\n",
    "b = 5\n",
    "a > b"
   ]
  },
  {
   "cell_type": "code",
   "execution_count": 14,
   "id": "74b48d3f",
   "metadata": {},
   "outputs": [
    {
     "data": {
      "text/plain": [
       "True"
      ]
     },
     "execution_count": 14,
     "metadata": {},
     "output_type": "execute_result"
    }
   ],
   "source": [
    "b != a"
   ]
  },
  {
   "cell_type": "code",
   "execution_count": 15,
   "id": "1b6229a3",
   "metadata": {},
   "outputs": [
    {
     "data": {
      "text/plain": [
       "False"
      ]
     },
     "execution_count": 15,
     "metadata": {},
     "output_type": "execute_result"
    }
   ],
   "source": [
    "a == b*2"
   ]
  },
  {
   "cell_type": "code",
   "execution_count": 11,
   "id": "1db3005a",
   "metadata": {},
   "outputs": [],
   "source": [
    "#### Y otros tipos como cadenas, listas, el resultado de algunas funciones o los propios tipos logicos."
   ]
  },
  {
   "cell_type": "code",
   "execution_count": 12,
   "id": "8ee79c3a",
   "metadata": {},
   "outputs": [
    {
     "data": {
      "text/plain": [
       "True"
      ]
     },
     "execution_count": 12,
     "metadata": {},
     "output_type": "execute_result"
    }
   ],
   "source": [
    "\"Hola\" == \"Hola\""
   ]
  },
  {
   "cell_type": "code",
   "execution_count": 13,
   "id": "16340f2a",
   "metadata": {},
   "outputs": [
    {
     "data": {
      "text/plain": [
       "False"
      ]
     },
     "execution_count": 13,
     "metadata": {},
     "output_type": "execute_result"
    }
   ],
   "source": [
    "\"Hola\" != \"Hola\""
   ]
  },
  {
   "cell_type": "code",
   "execution_count": 16,
   "id": "c44dcb1c",
   "metadata": {},
   "outputs": [
    {
     "data": {
      "text/plain": [
       "True"
      ]
     },
     "execution_count": 16,
     "metadata": {},
     "output_type": "execute_result"
    }
   ],
   "source": [
    "c = \"Hola\"\n",
    "c[-1] == \"a\""
   ]
  },
  {
   "cell_type": "code",
   "execution_count": 17,
   "id": "5877b3f4",
   "metadata": {},
   "outputs": [
    {
     "data": {
      "text/plain": [
       "True"
      ]
     },
     "execution_count": 17,
     "metadata": {},
     "output_type": "execute_result"
    }
   ],
   "source": [
    "c[0] == \"H\""
   ]
  },
  {
   "cell_type": "code",
   "execution_count": 23,
   "id": "6f4ac1ee",
   "metadata": {},
   "outputs": [
    {
     "data": {
      "text/plain": [
       "False"
      ]
     },
     "execution_count": 23,
     "metadata": {},
     "output_type": "execute_result"
    }
   ],
   "source": [
    "11 == [0,1,2]\n",
    "12 == [2,3,4]\n",
    "11 == 12\n"
   ]
  },
  {
   "cell_type": "code",
   "execution_count": 24,
   "id": "72881a02",
   "metadata": {},
   "outputs": [
    {
     "data": {
      "text/plain": [
       "int"
      ]
     },
     "execution_count": 24,
     "metadata": {},
     "output_type": "execute_result"
    }
   ],
   "source": [
    "type (11)"
   ]
  },
  {
   "cell_type": "code",
   "execution_count": 25,
   "id": "74328c27",
   "metadata": {},
   "outputs": [
    {
     "data": {
      "text/plain": [
       "str"
      ]
     },
     "execution_count": 25,
     "metadata": {},
     "output_type": "execute_result"
    }
   ],
   "source": [
    "type (\"11\")"
   ]
  },
  {
   "cell_type": "markdown",
   "id": "cfb2314b",
   "metadata": {},
   "source": [
    "#### La Representacion aritmetica de True y False equivale a 1 y 0 respectivamente.\n"
   ]
  },
  {
   "cell_type": "code",
   "execution_count": 26,
   "id": "1bacf187",
   "metadata": {},
   "outputs": [
    {
     "data": {
      "text/plain": [
       "3"
      ]
     },
     "execution_count": 26,
     "metadata": {},
     "output_type": "execute_result"
    }
   ],
   "source": [
    "True *3"
   ]
  },
  {
   "cell_type": "code",
   "execution_count": 27,
   "id": "9e388986",
   "metadata": {},
   "outputs": [
    {
     "data": {
      "text/plain": [
       "0.0"
      ]
     },
     "execution_count": 27,
     "metadata": {},
     "output_type": "execute_result"
    }
   ],
   "source": [
    "False /5"
   ]
  },
  {
   "cell_type": "code",
   "execution_count": 28,
   "id": "d0808edb",
   "metadata": {},
   "outputs": [
    {
     "data": {
      "text/plain": [
       "0"
      ]
     },
     "execution_count": 28,
     "metadata": {},
     "output_type": "execute_result"
    }
   ],
   "source": [
    "True * False"
   ]
  },
  {
   "cell_type": "code",
   "execution_count": null,
   "id": "f16770e0",
   "metadata": {},
   "outputs": [],
   "source": []
  }
 ],
 "metadata": {
  "kernelspec": {
   "display_name": "Python 3 (ipykernel)",
   "language": "python",
   "name": "python3"
  },
  "language_info": {
   "codemirror_mode": {
    "name": "ipython",
    "version": 3
   },
   "file_extension": ".py",
   "mimetype": "text/x-python",
   "name": "python",
   "nbconvert_exporter": "python",
   "pygments_lexer": "ipython3",
   "version": "3.9.16"
  }
 },
 "nbformat": 4,
 "nbformat_minor": 5
}
