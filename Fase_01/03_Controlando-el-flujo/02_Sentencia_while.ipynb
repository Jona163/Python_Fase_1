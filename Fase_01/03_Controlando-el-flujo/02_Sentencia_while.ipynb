{
 "cells": [
  {
   "cell_type": "markdown",
   "id": "49c13a33",
   "metadata": {},
   "source": [
    "# Heraciones\n",
    "Iterar significa realizar una accion varias veces , cada vez que se repite se denomina iteracion.\n",
    "\n",
    "## Sentencia While(MIentras)\n",
    "Se basa en repetir un bloque apartir  de evaluar una condicion logica.\n",
    "Siempre que esta sea true.\n",
    "\n",
    "Queda en las manos del Developer decidir el momento en que la condicion cambie a False para hacer que \n",
    "el while finalice.\n",
    " "
   ]
  },
  {
   "cell_type": "code",
   "execution_count": 1,
   "id": "ae8bec7f",
   "metadata": {},
   "outputs": [
    {
     "name": "stdout",
     "output_type": "stream",
     "text": [
      "c vale 1\n",
      "c vale 2\n",
      "c vale 3\n",
      "c vale 4\n",
      "c vale 5\n",
      "c vale 6\n"
     ]
    }
   ],
   "source": [
    "c = 0\n",
    "while c<=5:\n",
    "    c +=1\n",
    "    print(\"c vale\", c)"
   ]
  },
  {
   "cell_type": "markdown",
   "id": "49e5ba37",
   "metadata": {},
   "source": [
    "# Sentencia Else en bucle While\n",
    "se encadena al while para ejecutar un bloque de codigo una vez que la condicion ya no devuelve True\n",
    "(normalmente al final).\n"
   ]
  },
  {
   "cell_type": "code",
   "execution_count": 2,
   "id": "689ef74f",
   "metadata": {},
   "outputs": [
    {
     "name": "stdout",
     "output_type": "stream",
     "text": [
      "C vale: 1\n",
      "C vale: 2\n",
      "C vale: 3\n",
      "C vale: 4\n",
      "C vale: 5\n",
      "C vale: 6\n",
      "Ya es toda we, ya se acompletaron las iteraciones y C vale: 6\n"
     ]
    }
   ],
   "source": [
    "c = 0\n",
    "while c <= 5:\n",
    "    c +=1\n",
    "    print(\"C vale:\",c)\n",
    "else:\n",
    "        print(\"Ya es toda we, ya se acompletaron las iteraciones y C vale:\",c)"
   ]
  },
  {
   "cell_type": "markdown",
   "id": "63bd06ec",
   "metadata": {},
   "source": [
    "## Instruccion brake\n",
    "sirve para **romper** la ejecucion del While en cualquier momento no se ejecutara el **else**\n",
    "ya que este solo se llama al finalizar la iteracion"
   ]
  },
  {
   "cell_type": "code",
   "execution_count": 3,
   "id": "c6919152",
   "metadata": {},
   "outputs": [
    {
     "name": "stdout",
     "output_type": "stream",
     "text": [
      "C vale: 1\n",
      "C vale: 2\n",
      "C vale: 3\n",
      "Se rompe el bucle,cuando C vale: 4\n"
     ]
    }
   ],
   "source": [
    "c = 0\n",
    "while c <= 5:\n",
    "    c +=1\n",
    "    if (c==4):\n",
    "        print(\"Se rompe el bucle,cuando C vale:\",c)\n",
    "        break\n",
    "    print(\"C vale:\",c)\n",
    "else:\n",
    "    print(\"Se ha completado toda la iteracion y C vale:\",c)"
   ]
  },
  {
   "cell_type": "markdown",
   "id": "d6b74bf5",
   "metadata": {},
   "source": [
    "## Crear un Menu Iterativo."
   ]
  },
  {
   "cell_type": "code",
   "execution_count": 4,
   "id": "1c3cf1f3",
   "metadata": {},
   "outputs": [
    {
     "name": "stdout",
     "output_type": "stream",
     "text": [
      "Bienvenido al menu iterativo\n",
      "¿Que deseas hacer?, Escribe una Opcion\n",
      "    1)Saludar.\n",
      "    2)Sumar dos numeros.\n",
      "    3)Salir.\n",
      "3\n",
      "¡Hasta Luego¡, ha sido un placer ayudarte\n"
     ]
    }
   ],
   "source": [
    "print(\"Bienvenido al menu iterativo\")\n",
    "while(True):\n",
    "    print(\"\"\"¿Que deseas hacer?, Escribe una Opcion\n",
    "    1)Saludar.\n",
    "    2)Sumar dos numeros.\n",
    "    3)Salir.\"\"\")\n",
    "    opcion=input()\n",
    "    if opcion == '1':\n",
    "        print(\"Hola Espero te la estes pasando CHIDO\")\n",
    "    elif opcion == '2':\n",
    "        N1=float(input(\"Introduce el primer numero: \"))\n",
    "        N2=float(input(\"Itroduce el segundo numero: \"))\n",
    "        print(\"El resultado de la suma es:\", N1+N2)\n",
    "    elif opcion == '3':\n",
    "        print(\"¡Hasta Luego¡, ha sido un placer ayudarte\")\n",
    "        break\n",
    "    else:(\"Comando desconocido, vuelve a intentarlo\")\n",
    "        \n",
    "    \n",
    "        "
   ]
  },
  {
   "cell_type": "code",
   "execution_count": null,
   "id": "024811e7",
   "metadata": {},
   "outputs": [],
   "source": []
  }
 ],
 "metadata": {
  "kernelspec": {
   "display_name": "Python 3 (ipykernel)",
   "language": "python",
   "name": "python3"
  },
  "language_info": {
   "codemirror_mode": {
    "name": "ipython",
    "version": 3
   },
   "file_extension": ".py",
   "mimetype": "text/x-python",
   "name": "python",
   "nbconvert_exporter": "python",
   "pygments_lexer": "ipython3",
   "version": "3.9.16"
  }
 },
 "nbformat": 4,
 "nbformat_minor": 5
}
