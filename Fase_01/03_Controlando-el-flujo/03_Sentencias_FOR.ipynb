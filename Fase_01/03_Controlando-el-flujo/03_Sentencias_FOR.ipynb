{
 "cells": [
  {
   "cell_type": "markdown",
   "id": "c0e0a1df",
   "metadata": {},
   "source": [
    "## Recorriendo los elementos de una lista,utilizando while"
   ]
  },
  {
   "cell_type": "code",
   "execution_count": 1,
   "id": "701b9d43",
   "metadata": {},
   "outputs": [
    {
     "name": "stdout",
     "output_type": "stream",
     "text": [
      "1\n",
      "2\n",
      "3\n",
      "4\n",
      "5\n",
      "6\n",
      "7\n",
      "8\n",
      "9\n",
      "10\n"
     ]
    }
   ],
   "source": [
    "numeros = [1,2,3,4,5,6,7,8,9,10]\n",
    "indice = 0\n",
    "while indice < len(numeros):\n",
    "    print(numeros[indice])\n",
    "    indice += 1\n"
   ]
  },
  {
   "cell_type": "markdown",
   "id": "e131b3c2",
   "metadata": {},
   "source": [
    "## Sentencia For (Para) con listas."
   ]
  },
  {
   "cell_type": "code",
   "execution_count": 2,
   "id": "ced25db6",
   "metadata": {},
   "outputs": [
    {
     "name": "stdout",
     "output_type": "stream",
     "text": [
      "1\n",
      "2\n",
      "3\n",
      "4\n",
      "5\n",
      "6\n",
      "7\n",
      "8\n",
      "9\n",
      "10\n"
     ]
    }
   ],
   "source": [
    "for numeros in numeros:  ##For [variable] en (lista)\n",
    "    print(numeros)"
   ]
  },
  {
   "cell_type": "markdown",
   "id": "309ed1b5",
   "metadata": {},
   "source": [
    "## Modificar items de la lista de ejecucion \n",
    "Para asignar un nuevlo valor a los elementos de una lista mientras se recorre, es posible intentar asignar\n",
    "al numero el nuevo valor"
   ]
  },
  {
   "cell_type": "code",
   "execution_count": 4,
   "id": "be9af604",
   "metadata": {},
   "outputs": [
    {
     "ename": "TypeError",
     "evalue": "'int' object is not iterable",
     "output_type": "error",
     "traceback": [
      "\u001b[0;31m---------------------------------------------------------------------------\u001b[0m",
      "\u001b[0;31mTypeError\u001b[0m                                 Traceback (most recent call last)",
      "Cell \u001b[0;32mIn[4], line 1\u001b[0m\n\u001b[0;32m----> 1\u001b[0m \u001b[38;5;28;01mfor\u001b[39;00m numero \u001b[38;5;129;01min\u001b[39;00m numeros:\n\u001b[1;32m      2\u001b[0m     numero \u001b[38;5;241m*\u001b[39m\u001b[38;5;241m=\u001b[39m \u001b[38;5;241m10\u001b[39m\n\u001b[1;32m      3\u001b[0m     numeros\n",
      "\u001b[0;31mTypeError\u001b[0m: 'int' object is not iterable"
     ]
    }
   ],
   "source": [
    "for numero in numeros:\n",
    "    numero *= 10\n",
    "    numeros"
   ]
  },
  {
   "cell_type": "markdown",
   "id": "2c54e41e",
   "metadata": {},
   "source": [
    "#### Sin embargo esto no funciona y es haciendo referencia al indice de la lista en lugar de la variable"
   ]
  },
  {
   "cell_type": "code",
   "execution_count": 6,
   "id": "08233136",
   "metadata": {},
   "outputs": [
    {
     "data": {
      "text/plain": [
       "[10, 20, 30, 40, 50, 60, 70, 80, 90, 100]"
      ]
     },
     "execution_count": 6,
     "metadata": {},
     "output_type": "execute_result"
    }
   ],
   "source": [
    "indice = 0\n",
    "numeros =[1,2,3,4,5,6,7,8,9,10]\n",
    "for numero in numeros:\n",
    "    numeros[indice] *=10\n",
    "    indice += 1\n",
    "numeros"
   ]
  },
  {
   "cell_type": "markdown",
   "id": "38439391",
   "metadata": {},
   "source": [
    "### Es posible utilizar la funcion enumerate () para conseguir el indice y el valoren cada iteracion facilmente."
   ]
  },
  {
   "cell_type": "code",
   "execution_count": 7,
   "id": "d31a6989",
   "metadata": {},
   "outputs": [
    {
     "data": {
      "text/plain": [
       "[10, 20, 30, 40, 50, 60, 70, 80, 90, 100]"
      ]
     },
     "execution_count": 7,
     "metadata": {},
     "output_type": "execute_result"
    }
   ],
   "source": [
    "numeros =[1,2,3,4,5,6,7,8,9,10]\n",
    "for indice, numero in enumerate(numeros):\n",
    "    numeros[indice] *=10\n",
    "numeros"
   ]
  },
  {
   "cell_type": "markdown",
   "id": "bee634ad",
   "metadata": {},
   "source": [
    "### For con cadenas"
   ]
  },
  {
   "cell_type": "code",
   "execution_count": 8,
   "id": "88cf3124",
   "metadata": {},
   "outputs": [
    {
     "name": "stdout",
     "output_type": "stream",
     "text": [
      "H\n",
      "e\n",
      "l\n",
      "l\n",
      "o\n",
      " \n",
      "W\n",
      "o\n",
      "r\n",
      "l\n",
      "d\n"
     ]
    }
   ],
   "source": [
    "cadena ='Hello World'\n",
    "for caracter in cadena:\n",
    "    print(caracter)"
   ]
  },
  {
   "cell_type": "markdown",
   "id": "02e67432",
   "metadata": {},
   "source": [
    "#### Nota es posible recordar que las cadenas son inmutables"
   ]
  },
  {
   "cell_type": "code",
   "execution_count": 9,
   "id": "34f79a33",
   "metadata": {},
   "outputs": [
    {
     "ename": "TypeError",
     "evalue": "'str' object does not support item assignment",
     "output_type": "error",
     "traceback": [
      "\u001b[0;31m---------------------------------------------------------------------------\u001b[0m",
      "\u001b[0;31mTypeError\u001b[0m                                 Traceback (most recent call last)",
      "Cell \u001b[0;32mIn[9], line 2\u001b[0m\n\u001b[1;32m      1\u001b[0m \u001b[38;5;28;01mfor\u001b[39;00m i,c \u001b[38;5;129;01min\u001b[39;00m \u001b[38;5;28menumerate\u001b[39m(cadena):\n\u001b[0;32m----> 2\u001b[0m     cadena[i] \u001b[38;5;241m=\u001b[39m \u001b[38;5;124m\"\u001b[39m\u001b[38;5;124m*\u001b[39m\u001b[38;5;124m\"\u001b[39m\n",
      "\u001b[0;31mTypeError\u001b[0m: 'str' object does not support item assignment"
     ]
    }
   ],
   "source": [
    "for i,c in enumerate(cadena):\n",
    "    cadena[i] = \"*\""
   ]
  },
  {
   "cell_type": "markdown",
   "id": "a422967e",
   "metadata": {},
   "source": [
    "#### Sin embargo siempre se puede generar una cadena nueva"
   ]
  },
  {
   "cell_type": "code",
   "execution_count": 10,
   "id": "37254506",
   "metadata": {},
   "outputs": [
    {
     "data": {
      "text/plain": [
       "'Hello World'"
      ]
     },
     "execution_count": 10,
     "metadata": {},
     "output_type": "execute_result"
    }
   ],
   "source": [
    "cadena2 =\"\"\n",
    "for caracter in cadena:\n",
    "    cadena2 += caracter *2\n",
    "cadena"
   ]
  },
  {
   "cell_type": "code",
   "execution_count": 11,
   "id": "627299d8",
   "metadata": {},
   "outputs": [
    {
     "data": {
      "text/plain": [
       "'HHeelllloo  WWoorrlldd'"
      ]
     },
     "execution_count": 11,
     "metadata": {},
     "output_type": "execute_result"
    }
   ],
   "source": [
    "cadena2"
   ]
  },
  {
   "cell_type": "markdown",
   "id": "c61f7c5f",
   "metadata": {},
   "source": [
    "## La funcion range()\n",
    "sirve para generar una lista de numeros que se pueda recorrer facilmente, pero no ocupa memoria, porque se\n",
    "interprets sobre la marcha"
   ]
  },
  {
   "cell_type": "code",
   "execution_count": 14,
   "id": "498e1c99",
   "metadata": {},
   "outputs": [
    {
     "name": "stdout",
     "output_type": "stream",
     "text": [
      "0\n",
      "1\n",
      "2\n",
      "3\n",
      "4\n",
      "5\n",
      "6\n",
      "7\n",
      "8\n",
      "9\n"
     ]
    }
   ],
   "source": [
    "for i in range(10):\n",
    "    print(i)"
   ]
  },
  {
   "cell_type": "code",
   "execution_count": 16,
   "id": "6251b2cf",
   "metadata": {},
   "outputs": [
    {
     "data": {
      "text/plain": [
       "range(0, 10)"
      ]
     },
     "execution_count": 16,
     "metadata": {},
     "output_type": "execute_result"
    }
   ],
   "source": [
    " range(10)"
   ]
  },
  {
   "cell_type": "code",
   "execution_count": 17,
   "id": "04b16462",
   "metadata": {},
   "outputs": [
    {
     "name": "stdout",
     "output_type": "stream",
     "text": [
      "0\n",
      "1\n",
      "2\n",
      "3\n",
      "4\n",
      "5\n",
      "6\n",
      "7\n",
      "8\n",
      "9\n"
     ]
    }
   ],
   "source": [
    "for i in [0,1,2,3,4,5,6,7,8,9]:\n",
    "    print(i)"
   ]
  },
  {
   "cell_type": "markdown",
   "id": "522fdeda",
   "metadata": {},
   "source": [
    "#### Si se quiere conseguir la lista literal, es posible transformarlo el range a una lista."
   ]
  },
  {
   "cell_type": "code",
   "execution_count": 18,
   "id": "8e313f24",
   "metadata": {},
   "outputs": [
    {
     "data": {
      "text/plain": [
       "[0, 1, 2, 3, 4, 5, 6, 7, 8, 9]"
      ]
     },
     "execution_count": 18,
     "metadata": {},
     "output_type": "execute_result"
    }
   ],
   "source": [
    "list(range(10))"
   ]
  },
  {
   "cell_type": "code",
   "execution_count": null,
   "id": "15df43cf",
   "metadata": {},
   "outputs": [],
   "source": []
  }
 ],
 "metadata": {
  "kernelspec": {
   "display_name": "Python 3 (ipykernel)",
   "language": "python",
   "name": "python3"
  },
  "language_info": {
   "codemirror_mode": {
    "name": "ipython",
    "version": 3
   },
   "file_extension": ".py",
   "mimetype": "text/x-python",
   "name": "python",
   "nbconvert_exporter": "python",
   "pygments_lexer": "ipython3",
   "version": "3.9.16"
  }
 },
 "nbformat": 4,
 "nbformat_minor": 5
}
