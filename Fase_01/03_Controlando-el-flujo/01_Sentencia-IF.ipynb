{
 "cells": [
  {
   "cell_type": "markdown",
   "id": "e8c72711",
   "metadata": {},
   "source": [
    "# Condiciones \n",
    "## Sentencia IF (SI)\n",
    "Permite dividir el ciclo de un programna en diferentes caminos. El if se ejecuta\n",
    "Siempre que la expresion que comprueba devuelva True."
   ]
  },
  {
   "cell_type": "code",
   "execution_count": 1,
   "id": "c3e56059",
   "metadata": {},
   "outputs": [
    {
     "name": "stdout",
     "output_type": "stream",
     "text": [
      "Se cumple la condicion\n",
      "Tambien se muestra este Print\n"
     ]
    }
   ],
   "source": [
    "if True: #Equivale a IF not False\n",
    "    print(\"Se cumple la condicion\")\n",
    "    print(\"Tambien se muestra este Print\")"
   ]
  },
  {
   "cell_type": "markdown",
   "id": "e5fce5fc",
   "metadata": {},
   "source": [
    "#### Es posible hacerlo en cadenas diferentes IF "
   ]
  },
  {
   "cell_type": "code",
   "execution_count": 2,
   "id": "441f4f07",
   "metadata": {},
   "outputs": [
    {
     "name": "stdout",
     "output_type": "stream",
     "text": [
      "a vale 5\n"
     ]
    }
   ],
   "source": [
    "a = 5 \n",
    "if a == 2:\n",
    "    print(\"a vale 2\")\n",
    "if a ==5:\n",
    "    print(\"a vale 5\")\n",
    "    "
   ]
  },
  {
   "cell_type": "markdown",
   "id": "c0815190",
   "metadata": {},
   "source": [
    "#### O tambien anidar if dentro de if"
   ]
  },
  {
   "cell_type": "code",
   "execution_count": 4,
   "id": "e77e14ee",
   "metadata": {},
   "outputs": [
    {
     "name": "stdout",
     "output_type": "stream",
     "text": [
      "a vale 5\n",
      "b vale 10\n"
     ]
    }
   ],
   "source": [
    "a = 5\n",
    "b= 10\n",
    "if a == 5:\n",
    "    print(\"a vale\", a)\n",
    "if b==10:\n",
    "    print (\"b vale\", b)"
   ]
  },
  {
   "cell_type": "markdown",
   "id": "85c699ab",
   "metadata": {},
   "source": [
    "#### Como condicion es posible evaluar multiples expresiones , siempre que estas devuelvan True o False"
   ]
  },
  {
   "cell_type": "code",
   "execution_count": 5,
   "id": "37618979",
   "metadata": {},
   "outputs": [
    {
     "name": "stdout",
     "output_type": "stream",
     "text": [
      "a vale 5 y b vale 10\n"
     ]
    }
   ],
   "source": [
    "if a == 5 and b == 10:\n",
    "    print(\"a vale 5 y b vale 10\")"
   ]
  },
  {
   "cell_type": "markdown",
   "id": "eb86d24d",
   "metadata": {},
   "source": [
    "# Sentencia Else (SiNO)\n",
    "se encadena a un if para comprobar el caso contario (El que no cumple la condicion)."
   ]
  },
  {
   "cell_type": "code",
   "execution_count": 6,
   "id": "f428b69b",
   "metadata": {},
   "outputs": [
    {
     "name": "stdout",
     "output_type": "stream",
     "text": [
      "11 Es un numero impar\n"
     ]
    }
   ],
   "source": [
    "n = 11\n",
    "if n % 2 == 0:\n",
    "    print(n,\"Es un numero par\")\n",
    "else:\n",
    "    print(n,\"Es un numero impar\")"
   ]
  },
  {
   "cell_type": "markdown",
   "id": "e1a8dbcf",
   "metadata": {},
   "source": [
    "# Sentencia Elif(Sino Si)\n",
    "Se encadena a un if u otro elif para comprobar multiples condiciones, siempre que las anteriores no se ejecuten."
   ]
  },
  {
   "cell_type": "code",
   "execution_count": 7,
   "id": "cb7e7cab",
   "metadata": {},
   "outputs": [
    {
     "name": "stdout",
     "output_type": "stream",
     "text": [
      "Este comando no se reconoce\n"
     ]
    }
   ],
   "source": [
    "comando = \"Otra cosa\"\n",
    "if comando == \"Entrar\":\n",
    "    print(\"Bienvenido al Sistema\")\n",
    "elif comando == \"Saludar\":\n",
    "    print(\"Hola , te la estes pasando chido, aprendiendo Python\")\n",
    "elif comando == (\"Salir\"):\n",
    "    print(\"Saliendo del Sistema...................\")\n",
    "else:\n",
    "    print(\"Este comando no se reconoce\")\n",
    "    "
   ]
  },
  {
   "cell_type": "code",
   "execution_count": 11,
   "id": "eee20191",
   "metadata": {},
   "outputs": [
    {
     "name": "stdout",
     "output_type": "stream",
     "text": [
      "Introduce una calificacion0\n",
      "Suficiente , ponte chido\n"
     ]
    }
   ],
   "source": [
    "Calif = float(input(\"Introduce una calificacion\"))\n",
    "if Calif >= 90:\n",
    "    print(\"El chavo sobresaliente\")\n",
    "elif Calif >= 70:\n",
    "    print(\"Notable\")\n",
    "elif Calif < 70:\n",
    "    print(\"Suficiente , ponte chido\")\n",
    "else:\n",
    "    print(\"Estas bien Reprobado chavo\")"
   ]
  },
  {
   "cell_type": "markdown",
   "id": "f3c4db7b",
   "metadata": {},
   "source": [
    "   # Instruccion Pass\n",
    "   Sirve para finalizar un bloque vacio"
   ]
  },
  {
   "cell_type": "code",
   "execution_count": 12,
   "id": "50edac8e",
   "metadata": {},
   "outputs": [],
   "source": [
    "if True:\n",
    "    pass"
   ]
  },
  {
   "cell_type": "code",
   "execution_count": 13,
   "id": "b060b2e8",
   "metadata": {},
   "outputs": [],
   "source": [
    "if True:\n",
    "    \"Enter\""
   ]
  },
  {
   "cell_type": "code",
   "execution_count": null,
   "id": "e72a70ac",
   "metadata": {},
   "outputs": [],
   "source": []
  }
 ],
 "metadata": {
  "kernelspec": {
   "display_name": "Python 3 (ipykernel)",
   "language": "python",
   "name": "python3"
  },
  "language_info": {
   "codemirror_mode": {
    "name": "ipython",
    "version": 3
   },
   "file_extension": ".py",
   "mimetype": "text/x-python",
   "name": "python",
   "nbconvert_exporter": "python",
   "pygments_lexer": "ipython3",
   "version": "3.9.16"
  }
 },
 "nbformat": 4,
 "nbformat_minor": 5
}
