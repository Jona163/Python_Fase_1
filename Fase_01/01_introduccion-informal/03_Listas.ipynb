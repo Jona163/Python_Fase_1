{
 "cells": [
  {
   "cell_type": "markdown",
   "id": "f21aef19",
   "metadata": {},
   "source": [
    "# Las Listas\n",
    "\n",
    "Tipo compuesto de datos que puede almacenar distintos valores (llamados ITEMS)ordenados entre corchetes [  ] y separados por comas."
   ]
  },
  {
   "cell_type": "code",
   "execution_count": 2,
   "id": "ef23bdb1",
   "metadata": {},
   "outputs": [
    {
     "data": {
      "text/plain": [
       "[1, 2, 3, 4]"
      ]
     },
     "execution_count": 2,
     "metadata": {},
     "output_type": "execute_result"
    }
   ],
   "source": [
    "numeros=[1,2,3,4]\n",
    "numeros"
   ]
  },
  {
   "cell_type": "code",
   "execution_count": 3,
   "id": "c29f9f49",
   "metadata": {},
   "outputs": [
    {
     "data": {
      "text/plain": [
       "[4, 'Una cadena', -15, 3.14, 'Otra cadena']"
      ]
     },
     "execution_count": 3,
     "metadata": {},
     "output_type": "execute_result"
    }
   ],
   "source": [
    "datos=[4,\"Una cadena\",-15,3.14,\"Otra cadena\"]\n",
    "datos"
   ]
  },
  {
   "cell_type": "markdown",
   "id": "95f1887d",
   "metadata": {},
   "source": [
    "## Indices y slicing\n",
    "\n",
    "Funciona de una forma muy similar a las cadenas de caracteres ."
   ]
  },
  {
   "cell_type": "code",
   "execution_count": 4,
   "id": "d93bf269",
   "metadata": {},
   "outputs": [
    {
     "data": {
      "text/plain": [
       "4"
      ]
     },
     "execution_count": 4,
     "metadata": {},
     "output_type": "execute_result"
    }
   ],
   "source": [
    "datos[0]"
   ]
  },
  {
   "cell_type": "code",
   "execution_count": 5,
   "id": "85462527",
   "metadata": {},
   "outputs": [
    {
     "data": {
      "text/plain": [
       "'Otra cadena'"
      ]
     },
     "execution_count": 5,
     "metadata": {},
     "output_type": "execute_result"
    }
   ],
   "source": [
    "datos[-1]"
   ]
  },
  {
   "cell_type": "code",
   "execution_count": 6,
   "id": "1b77d285",
   "metadata": {},
   "outputs": [
    {
     "data": {
      "text/plain": [
       "[3.14, 'Otra cadena']"
      ]
     },
     "execution_count": 6,
     "metadata": {},
     "output_type": "execute_result"
    }
   ],
   "source": [
    "datos[-2:]"
   ]
  },
  {
   "cell_type": "markdown",
   "id": "b0ed3540",
   "metadata": {},
   "source": [
    "## Suma de listas.\n",
    "\n",
    "Da como resultado una nueva lista que incluye todos los items."
   ]
  },
  {
   "cell_type": "code",
   "execution_count": 7,
   "id": "35881327",
   "metadata": {},
   "outputs": [
    {
     "data": {
      "text/plain": [
       "[1, 2, 3, 4, 5, 6, 7, 8]"
      ]
     },
     "execution_count": 7,
     "metadata": {},
     "output_type": "execute_result"
    }
   ],
   "source": [
    "numeros+[5,6,7,8]"
   ]
  },
  {
   "cell_type": "markdown",
   "id": "dfd995cf",
   "metadata": {},
   "source": [
    "## Son modificables.\n",
    "\n",
    "A diferencia de las cadenas, en las listas si se puede modificar sus items, utilizando indices."
   ]
  },
  {
   "cell_type": "code",
   "execution_count": 9,
   "id": "c3dfd54c",
   "metadata": {},
   "outputs": [
    {
     "data": {
      "text/plain": [
       "[0, 2, 4, 5, 8, 10]"
      ]
     },
     "execution_count": 9,
     "metadata": {},
     "output_type": "execute_result"
    }
   ],
   "source": [
    "pares = [0,2,4,5,8,10]\n",
    "pares"
   ]
  },
  {
   "cell_type": "code",
   "execution_count": 12,
   "id": "2e873f2e",
   "metadata": {},
   "outputs": [
    {
     "data": {
      "text/plain": [
       "[0, 2, 4, 6, 8, 10]"
      ]
     },
     "execution_count": 12,
     "metadata": {},
     "output_type": "execute_result"
    }
   ],
   "source": [
    "pares[3] = 6\n",
    "pares"
   ]
  },
  {
   "cell_type": "markdown",
   "id": "0c1f7604",
   "metadata": {},
   "source": [
    "#### Integran funcionalidades internas, como el metodo .append(  ) para añadir un item al final de la lista."
   ]
  },
  {
   "cell_type": "code",
   "execution_count": 15,
   "id": "c178dde0",
   "metadata": {},
   "outputs": [
    {
     "data": {
      "text/plain": [
       "[0, 2, 4, 6, 8, 10, 12, 12]"
      ]
     },
     "execution_count": 15,
     "metadata": {},
     "output_type": "execute_result"
    }
   ],
   "source": [
    "pares.append(12)\n",
    "pares"
   ]
  },
  {
   "cell_type": "code",
   "execution_count": 16,
   "id": "4750fbe3",
   "metadata": {},
   "outputs": [
    {
     "data": {
      "text/plain": [
       "[0, 2, 4, 6, 8, 10, 12, 12, 24]"
      ]
     },
     "execution_count": 16,
     "metadata": {},
     "output_type": "execute_result"
    }
   ],
   "source": [
    "pares.append(12*2)\n",
    "pares"
   ]
  },
  {
   "cell_type": "markdown",
   "id": "14c9df26",
   "metadata": {},
   "source": [
    "#### Una peculiaridad es que tambien acemptan asignacion con slicing para modificar items en conjunto."
   ]
  },
  {
   "cell_type": "code",
   "execution_count": 19,
   "id": "b029d77a",
   "metadata": {},
   "outputs": [
    {
     "data": {
      "text/plain": [
       "['a', 'b', 'c', 'd', 'f', 'g']"
      ]
     },
     "execution_count": 19,
     "metadata": {},
     "output_type": "execute_result"
    }
   ],
   "source": [
    "letras = ['a','b','c','d','f','g']\n",
    "letras"
   ]
  },
  {
   "cell_type": "code",
   "execution_count": 20,
   "id": "634a23fa",
   "metadata": {},
   "outputs": [
    {
     "data": {
      "text/plain": [
       "['a', 'b', 'c']"
      ]
     },
     "execution_count": 20,
     "metadata": {},
     "output_type": "execute_result"
    }
   ],
   "source": [
    "letras[:3]"
   ]
  },
  {
   "cell_type": "code",
   "execution_count": 21,
   "id": "5838de5b",
   "metadata": {},
   "outputs": [
    {
     "data": {
      "text/plain": [
       "['a', 'b', 'c', 'd', 'f', 'g']"
      ]
     },
     "execution_count": 21,
     "metadata": {},
     "output_type": "execute_result"
    }
   ],
   "source": [
    "letras"
   ]
  },
  {
   "cell_type": "code",
   "execution_count": 22,
   "id": "3a88fd60",
   "metadata": {},
   "outputs": [
    {
     "data": {
      "text/plain": [
       "['A', 'B', 'C', 'd', 'f', 'g']"
      ]
     },
     "execution_count": 22,
     "metadata": {},
     "output_type": "execute_result"
    }
   ],
   "source": [
    "letras[:3]=['A','B','C']\n",
    "letras"
   ]
  },
  {
   "cell_type": "markdown",
   "id": "b08f73fd",
   "metadata": {},
   "source": [
    "#### Asignar una lista vacia equivale a borrar los items de la lista o sublista."
   ]
  },
  {
   "cell_type": "code",
   "execution_count": 23,
   "id": "3660e46d",
   "metadata": {},
   "outputs": [
    {
     "data": {
      "text/plain": [
       "['d', 'f', 'g']"
      ]
     },
     "execution_count": 23,
     "metadata": {},
     "output_type": "execute_result"
    }
   ],
   "source": [
    "letras[:3]=[]\n",
    "letras"
   ]
  },
  {
   "cell_type": "code",
   "execution_count": 24,
   "id": "9a25fac6",
   "metadata": {},
   "outputs": [
    {
     "data": {
      "text/plain": [
       "[]"
      ]
     },
     "execution_count": 24,
     "metadata": {},
     "output_type": "execute_result"
    }
   ],
   "source": [
    "letras=[]\n",
    "letras"
   ]
  },
  {
   "cell_type": "markdown",
   "id": "65b13663",
   "metadata": {},
   "source": [
    "#### La funcion len() tambien funciona con las listas del mismo modo que las cadenas"
   ]
  },
  {
   "cell_type": "code",
   "execution_count": 25,
   "id": "ab82814c",
   "metadata": {},
   "outputs": [
    {
     "data": {
      "text/plain": [
       "9"
      ]
     },
     "execution_count": 25,
     "metadata": {},
     "output_type": "execute_result"
    }
   ],
   "source": [
    "len(pares)"
   ]
  },
  {
   "cell_type": "code",
   "execution_count": 26,
   "id": "9792e882",
   "metadata": {},
   "outputs": [
    {
     "data": {
      "text/plain": [
       "0"
      ]
     },
     "execution_count": 26,
     "metadata": {},
     "output_type": "execute_result"
    }
   ],
   "source": [
    "len(letras)"
   ]
  },
  {
   "cell_type": "code",
   "execution_count": 27,
   "id": "5a2a1cbb",
   "metadata": {},
   "outputs": [
    {
     "data": {
      "text/plain": [
       "9"
      ]
     },
     "execution_count": 27,
     "metadata": {},
     "output_type": "execute_result"
    }
   ],
   "source": [
    "len(pares)"
   ]
  },
  {
   "cell_type": "markdown",
   "id": "da6a330b",
   "metadata": {},
   "source": [
    "## Listas dentro de listas (anidadas)\n",
    "\n",
    "Podemos manipular facilmente este tipo de estructuras utilizando multiples indices como si nos refirieramos a las filas y columnas de unas tablas.\n",
    "\n"
   ]
  },
  {
   "cell_type": "code",
   "execution_count": 28,
   "id": "6cd7eec7",
   "metadata": {},
   "outputs": [
    {
     "data": {
      "text/plain": [
       "[[1, 2, 3], [4, 5, 6], [7, 8, 9]]"
      ]
     },
     "execution_count": 28,
     "metadata": {},
     "output_type": "execute_result"
    }
   ],
   "source": [
    "a=[1,2,3]\n",
    "b=[4,5,6]\n",
    "c=[7,8,9]\n",
    "r=[a,b,c]\n",
    "r"
   ]
  },
  {
   "cell_type": "code",
   "execution_count": 33,
   "id": "c93c244e",
   "metadata": {},
   "outputs": [
    {
     "data": {
      "text/plain": [
       "[1, 2, 3]"
      ]
     },
     "execution_count": 33,
     "metadata": {},
     "output_type": "execute_result"
    }
   ],
   "source": [
    "r[0] #Primera SubLista\n"
   ]
  },
  {
   "cell_type": "code",
   "execution_count": 35,
   "id": "d9d794de",
   "metadata": {},
   "outputs": [
    {
     "data": {
      "text/plain": [
       "[7, 8, 9]"
      ]
     },
     "execution_count": 35,
     "metadata": {},
     "output_type": "execute_result"
    }
   ],
   "source": [
    "r[-1] #Ultima SubLista"
   ]
  },
  {
   "cell_type": "code",
   "execution_count": 36,
   "id": "b3739c8f",
   "metadata": {},
   "outputs": [
    {
     "data": {
      "text/plain": [
       "1"
      ]
     },
     "execution_count": 36,
     "metadata": {},
     "output_type": "execute_result"
    }
   ],
   "source": [
    "r[0][0] #Primera SubLista y de ella, el primer item."
   ]
  },
  {
   "cell_type": "code",
   "execution_count": 38,
   "id": "26621ae6",
   "metadata": {},
   "outputs": [
    {
     "data": {
      "text/plain": [
       "5"
      ]
     },
     "execution_count": 38,
     "metadata": {},
     "output_type": "execute_result"
    }
   ],
   "source": [
    "r[1][1] #Imprime la segunda SubLista y de ella el segundo Item."
   ]
  },
  {
   "cell_type": "code",
   "execution_count": 39,
   "id": "3cc40f30",
   "metadata": {},
   "outputs": [
    {
     "data": {
      "text/plain": [
       "9"
      ]
     },
     "execution_count": 39,
     "metadata": {},
     "output_type": "execute_result"
    }
   ],
   "source": [
    "r[2][2] #Imprime Tercera SubLista y de ella el ultimo item. "
   ]
  },
  {
   "cell_type": "code",
   "execution_count": 40,
   "id": "9530f9c5",
   "metadata": {},
   "outputs": [
    {
     "data": {
      "text/plain": [
       "9"
      ]
     },
     "execution_count": 40,
     "metadata": {},
     "output_type": "execute_result"
    }
   ],
   "source": [
    "r[-1][-1] #Ultima sublista y de ella el ultimo item."
   ]
  },
  {
   "cell_type": "code",
   "execution_count": null,
   "id": "b7eb2f42",
   "metadata": {},
   "outputs": [],
   "source": []
  }
 ],
 "metadata": {
  "kernelspec": {
   "display_name": "Python 3 (ipykernel)",
   "language": "python",
   "name": "python3"
  },
  "language_info": {
   "codemirror_mode": {
    "name": "ipython",
    "version": 3
   },
   "file_extension": ".py",
   "mimetype": "text/x-python",
   "name": "python",
   "nbconvert_exporter": "python",
   "pygments_lexer": "ipython3",
   "version": "3.9.16"
  }
 },
 "nbformat": 4,
 "nbformat_minor": 5
}
