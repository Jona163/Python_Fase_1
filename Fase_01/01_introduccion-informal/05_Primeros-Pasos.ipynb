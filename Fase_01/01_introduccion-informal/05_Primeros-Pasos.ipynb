{
 "cells": [
  {
   "cell_type": "markdown",
   "id": "97dc3c86",
   "metadata": {},
   "source": [
    "# Ejemplo de cabecera.\n",
    "\n",
    "Intenta deducir que hace este programa (no hace falta que les des muchas vueltas)."
   ]
  },
  {
   "cell_type": "code",
   "execution_count": 7,
   "id": "991a50db",
   "metadata": {},
   "outputs": [
    {
     "name": "stdout",
     "output_type": "stream",
     "text": [
      "0 es un numero par\n",
      "1 es un numero impar\n",
      "2 es un numero par\n",
      "3 es un numero impar\n",
      "4 es un numero par\n",
      "5 es un numero impar\n",
      "6 es un numero par\n",
      "7 es un numero impar\n",
      "8 es un numero par\n",
      "9 es un numero impar\n"
     ]
    }
   ],
   "source": [
    "n = 0\n",
    "while n < 10: #while = mientras\n",
    " if (n % 2) == 0: #if = si (de condicion)\n",
    "    print(n,'es un numero par')\n",
    " else:   #else = sino(def condicion)\n",
    "    print(n,'es un numero impar')\n",
    " n=n+1"
   ]
  },
  {
   "cell_type": "code",
   "execution_count": null,
   "id": "4b855f84",
   "metadata": {},
   "outputs": [],
   "source": []
  }
 ],
 "metadata": {
  "kernelspec": {
   "display_name": "Python 3 (ipykernel)",
   "language": "python",
   "name": "python3"
  },
  "language_info": {
   "codemirror_mode": {
    "name": "ipython",
    "version": 3
   },
   "file_extension": ".py",
   "mimetype": "text/x-python",
   "name": "python",
   "nbconvert_exporter": "python",
   "pygments_lexer": "ipython3",
   "version": "3.9.16"
  }
 },
 "nbformat": 4,
 "nbformat_minor": 5
}
